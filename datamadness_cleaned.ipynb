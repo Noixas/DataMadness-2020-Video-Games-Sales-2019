{
 "nbformat": 4,
 "nbformat_minor": 2,
 "metadata": {
  "language_info": {
   "name": "python",
   "codemirror_mode": {
    "name": "ipython",
    "version": 3
   },
   "version": "3.7.3-final"
  },
  "orig_nbformat": 2,
  "file_extension": ".py",
  "mimetype": "text/x-python",
  "name": "python",
  "npconvert_exporter": "python",
  "pygments_lexer": "ipython3",
  "version": 3,
  "kernelspec": {
   "name": "python3",
   "display_name": "Python 3"
  }
 },
 "cells": [
  {
   "cell_type": "code",
   "execution_count": 1,
   "metadata": {},
   "outputs": [],
   "source": [
    "import IPython.core.display\n",
    "import matplotlib\n",
    "\n",
    "def apply_styles():\n",
    "    matplotlib.rcParams['font.size'] = 12\n",
    "    matplotlib.rcParams['figure.figsize'] = (18, 6)\n",
    "    matplotlib.rcParams['lines.linewidth'] = 1\n",
    "\n",
    "apply_styles()\n",
    "\n",
    "import pandas as pd\n",
    "import numpy as np\n",
    "import seaborn as sns\n",
    "import matplotlib.pyplot as plt\n",
    "%matplotlib inline\n",
    "sns.set(style=\"ticks\")\n",
    "import warnings\n",
    "warnings.filterwarnings('ignore')\n",
    ""
   ]
  },
  {
   "cell_type": "code",
   "execution_count": null,
   "metadata": {},
   "outputs": [],
   "source": []
  },
  {
   "cell_type": "code",
   "execution_count": 2,
   "metadata": {},
   "outputs": [],
   "source": [
    "df = pd.read_csv(\"data/vgsales.csv\")\n",
    "# df.value.astype(int, copy=False);"
   ]
  },
  {
   "cell_type": "code",
   "execution_count": 3,
   "metadata": {},
   "outputs": [
    {
     "output_type": "execute_result",
     "data": {
      "text/plain": "                       Name Platform  Year_of_Release         Genre Publisher  \\\n0                Wii Sports      Wii           2006.0        Sports  Nintendo   \n1         Super Mario Bros.      NES           1985.0      Platform  Nintendo   \n2            Mario Kart Wii      Wii           2008.0        Racing  Nintendo   \n3         Wii Sports Resort      Wii           2009.0        Sports  Nintendo   \n4  Pokemon Red/Pokemon Blue       GB           1996.0  Role-Playing  Nintendo   \n\n   NA_Sales  EU_Sales  JP_Sales  Other_Sales  Global_Sales  Critic_Score  \\\n0     41.36     28.96      3.77          NaN         82.53          76.0   \n1     29.08      3.58      6.81         0.77         40.24           NaN   \n2     15.68     12.76      3.79         3.29         35.52          82.0   \n3     15.61     10.93      3.28          NaN         32.77          80.0   \n4     11.27      8.89     10.22         1.00         31.37           NaN   \n\n   Critic_Count User_Score  User_Count Developer Rating  \n0          51.0          8       322.0  Nintendo      E  \n1           NaN        NaN         NaN       NaN    NaN  \n2          73.0        8.3       709.0  Nintendo      E  \n3          73.0          8       192.0  Nintendo      E  \n4           NaN        NaN         NaN       NaN    NaN  ",
      "text/html": "<div>\n<style scoped>\n    .dataframe tbody tr th:only-of-type {\n        vertical-align: middle;\n    }\n\n    .dataframe tbody tr th {\n        vertical-align: top;\n    }\n\n    .dataframe thead th {\n        text-align: right;\n    }\n</style>\n<table border=\"1\" class=\"dataframe\">\n  <thead>\n    <tr style=\"text-align: right;\">\n      <th></th>\n      <th>Name</th>\n      <th>Platform</th>\n      <th>Year_of_Release</th>\n      <th>Genre</th>\n      <th>Publisher</th>\n      <th>NA_Sales</th>\n      <th>EU_Sales</th>\n      <th>JP_Sales</th>\n      <th>Other_Sales</th>\n      <th>Global_Sales</th>\n      <th>Critic_Score</th>\n      <th>Critic_Count</th>\n      <th>User_Score</th>\n      <th>User_Count</th>\n      <th>Developer</th>\n      <th>Rating</th>\n    </tr>\n  </thead>\n  <tbody>\n    <tr>\n      <th>0</th>\n      <td>Wii Sports</td>\n      <td>Wii</td>\n      <td>2006.0</td>\n      <td>Sports</td>\n      <td>Nintendo</td>\n      <td>41.36</td>\n      <td>28.96</td>\n      <td>3.77</td>\n      <td>NaN</td>\n      <td>82.53</td>\n      <td>76.0</td>\n      <td>51.0</td>\n      <td>8</td>\n      <td>322.0</td>\n      <td>Nintendo</td>\n      <td>E</td>\n    </tr>\n    <tr>\n      <th>1</th>\n      <td>Super Mario Bros.</td>\n      <td>NES</td>\n      <td>1985.0</td>\n      <td>Platform</td>\n      <td>Nintendo</td>\n      <td>29.08</td>\n      <td>3.58</td>\n      <td>6.81</td>\n      <td>0.77</td>\n      <td>40.24</td>\n      <td>NaN</td>\n      <td>NaN</td>\n      <td>NaN</td>\n      <td>NaN</td>\n      <td>NaN</td>\n      <td>NaN</td>\n    </tr>\n    <tr>\n      <th>2</th>\n      <td>Mario Kart Wii</td>\n      <td>Wii</td>\n      <td>2008.0</td>\n      <td>Racing</td>\n      <td>Nintendo</td>\n      <td>15.68</td>\n      <td>12.76</td>\n      <td>3.79</td>\n      <td>3.29</td>\n      <td>35.52</td>\n      <td>82.0</td>\n      <td>73.0</td>\n      <td>8.3</td>\n      <td>709.0</td>\n      <td>Nintendo</td>\n      <td>E</td>\n    </tr>\n    <tr>\n      <th>3</th>\n      <td>Wii Sports Resort</td>\n      <td>Wii</td>\n      <td>2009.0</td>\n      <td>Sports</td>\n      <td>Nintendo</td>\n      <td>15.61</td>\n      <td>10.93</td>\n      <td>3.28</td>\n      <td>NaN</td>\n      <td>32.77</td>\n      <td>80.0</td>\n      <td>73.0</td>\n      <td>8</td>\n      <td>192.0</td>\n      <td>Nintendo</td>\n      <td>E</td>\n    </tr>\n    <tr>\n      <th>4</th>\n      <td>Pokemon Red/Pokemon Blue</td>\n      <td>GB</td>\n      <td>1996.0</td>\n      <td>Role-Playing</td>\n      <td>Nintendo</td>\n      <td>11.27</td>\n      <td>8.89</td>\n      <td>10.22</td>\n      <td>1.00</td>\n      <td>31.37</td>\n      <td>NaN</td>\n      <td>NaN</td>\n      <td>NaN</td>\n      <td>NaN</td>\n      <td>NaN</td>\n      <td>NaN</td>\n    </tr>\n  </tbody>\n</table>\n</div>"
     },
     "metadata": {},
     "execution_count": 3
    }
   ],
   "source": [
    "df.head(5)"
   ]
  },
  {
   "cell_type": "code",
   "execution_count": 4,
   "metadata": {},
   "outputs": [
    {
     "output_type": "execute_result",
     "data": {
      "text/plain": "10096"
     },
     "metadata": {},
     "execution_count": 4
    }
   ],
   "source": [
    "df.Developer.count()"
   ]
  },
  {
   "cell_type": "code",
   "execution_count": 5,
   "metadata": {},
   "outputs": [],
   "source": [
    "df.Name.isnull()\n",
    "df = df[df['Name'].notna()]"
   ]
  },
  {
   "cell_type": "code",
   "execution_count": 13,
   "metadata": {},
   "outputs": [
    {
     "output_type": "execute_result",
     "data": {
      "text/plain": "9127"
     },
     "metadata": {},
     "execution_count": 13
    }
   ],
   "source": [
    "df.User_Score.isnull().sum()"
   ]
  },
  {
   "cell_type": "code",
   "execution_count": 15,
   "metadata": {},
   "outputs": [],
   "source": [
    "#non-numeric value convert to NaN\n",
    "df['User_Score'] = df['User_Score'].apply(pd.to_numeric, errors='coerce')\n",
    "df['Rating'] = df['Rating'].apply(pd.to_numeric, errors='coerce')"
   ]
  },
  {
   "cell_type": "code",
   "execution_count": 21,
   "metadata": {},
   "outputs": [
    {
     "output_type": "execute_result",
     "data": {
      "text/plain": "Name                object\nPlatform            object\nYear_of_Release      Int64\nGenre               object\nPublisher           object\nNA_Sales           float64\nEU_Sales           float64\nJP_Sales           float64\nOther_Sales        float64\nGlobal_Sales       float64\nCritic_Score       float64\nCritic_Count       float64\nUser_Score         float64\nUser_Count         float64\nDeveloper           object\nRating             float64\ndtype: object"
     },
     "metadata": {},
     "execution_count": 21
    }
   ],
   "source": [
    "df.dtypes"
   ]
  },
  {
   "cell_type": "code",
   "execution_count": 17,
   "metadata": {},
   "outputs": [],
   "source": [
    "df[['Publisher', 'Developer']]=df[['Publisher', 'Developer']].fillna(value='missing')"
   ]
  },
  {
   "cell_type": "code",
   "execution_count": 27,
   "metadata": {},
   "outputs": [],
   "source": [
    "df['Rating'] = df['Rating'].astype('Int64')\n"
   ]
  },
  {
   "cell_type": "code",
   "execution_count": null,
   "metadata": {},
   "outputs": [],
   "source": []
  },
  {
   "cell_type": "code",
   "execution_count": 31,
   "metadata": {},
   "outputs": [],
   "source": [
    "df[['Critic_Count', 'Critic_Score', 'User_Count']] = df[['Critic_Count', 'Critic_Score', 'User_Count']].astype('Int64')"
   ]
  },
  {
   "cell_type": "code",
   "execution_count": 32,
   "metadata": {},
   "outputs": [
    {
     "output_type": "execute_result",
     "data": {
      "text/plain": "Name                object\nPlatform            object\nYear_of_Release      Int64\nGenre               object\nPublisher           object\nNA_Sales           float64\nEU_Sales           float64\nJP_Sales           float64\nOther_Sales        float64\nGlobal_Sales       float64\nCritic_Score         Int64\nCritic_Count         Int64\nUser_Score         float64\nUser_Count           Int64\nDeveloper           object\nRating               Int64\ndtype: object"
     },
     "metadata": {},
     "execution_count": 32
    }
   ],
   "source": [
    "df.dtypes"
   ]
  },
  {
   "cell_type": "code",
   "execution_count": 5,
   "metadata": {},
   "outputs": [
    {
     "output_type": "execute_result",
     "data": {
      "text/plain": "2008.0    1427\n2009.0    1426\n2010.0    1255\n2007.0    1197\n2011.0    1136\n2006.0    1006\n2005.0     939\n2002.0     829\n2003.0     775\n2004.0     762\n2012.0     653\n2015.0     606\n2014.0     581\n2013.0     544\n2016.0     502\n2001.0     482\n1998.0     379\n2000.0     350\n1999.0     338\n1997.0     289\n1996.0     263\n1995.0     219\n1994.0     121\n1993.0      62\n1981.0      46\n1992.0      43\n1991.0      41\n1982.0      36\n1986.0      21\n1989.0      17\n1983.0      17\n1990.0      16\n1987.0      16\n1988.0      15\n1985.0      14\n1984.0      14\n1980.0       9\n2017.0       3\n2020.0       1\nName: Year_of_Release, dtype: int64"
     },
     "metadata": {},
     "execution_count": 5
    }
   ],
   "source": [
    "df.Year_of_Release.value_counts()\n",
    "# df.shape"
   ]
  },
  {
   "cell_type": "code",
   "execution_count": 6,
   "metadata": {},
   "outputs": [
    {
     "output_type": "execute_result",
     "data": {
      "text/plain": "Name               Wii Sports\nPlatform                  Wii\nYear_of_Release          2006\nGenre                  Sports\nPublisher            Nintendo\nNA_Sales                41.36\nEU_Sales                28.96\nJP_Sales                 3.77\nOther_Sales               NaN\nGlobal_Sales            82.53\nCritic_Score               76\nCritic_Count               51\nUser_Score                  8\nUser_Count                322\nDeveloper            Nintendo\nRating                      E\nName: 0, dtype: object"
     },
     "metadata": {},
     "execution_count": 6
    }
   ],
   "source": [
    "df.loc[0]"
   ]
  },
  {
   "cell_type": "code",
   "execution_count": 8,
   "metadata": {},
   "outputs": [
    {
     "output_type": "execute_result",
     "data": {
      "text/plain": "       Year_of_Release      NA_Sales      EU_Sales      JP_Sales  \\\ncount     16450.000000  15848.000000  15520.000000  16719.000000   \nmean       2006.487356      0.263579      0.146210      0.077602   \nstd           5.878995      0.822121      0.513323      0.308818   \nmin        1980.000000      0.000000      0.000000      0.000000   \n25%        2003.000000      0.000000      0.000000      0.000000   \n50%        2007.000000      0.080000      0.020000      0.000000   \n75%        2010.000000      0.240000      0.110000      0.040000   \nmax        2020.000000     41.360000     28.960000     10.220000   \n\n        Other_Sales  Global_Sales  Critic_Score  Critic_Count    User_Count  \ncount  15341.000000  15728.000000   8137.000000   8137.000000   7590.000000  \nmean       0.046820      0.531498     68.967679     26.360821    162.229908  \nstd        0.175121      1.539597     13.938165     18.980495    561.282326  \nmin        0.000000      0.010000     13.000000      3.000000      4.000000  \n25%        0.000000      0.060000     60.000000     12.000000     10.000000  \n50%        0.010000      0.170000     71.000000     21.000000     24.000000  \n75%        0.030000      0.470000     79.000000     36.000000     81.000000  \nmax       10.570000     82.530000     98.000000    113.000000  10665.000000  ",
      "text/html": "<div>\n<style scoped>\n    .dataframe tbody tr th:only-of-type {\n        vertical-align: middle;\n    }\n\n    .dataframe tbody tr th {\n        vertical-align: top;\n    }\n\n    .dataframe thead th {\n        text-align: right;\n    }\n</style>\n<table border=\"1\" class=\"dataframe\">\n  <thead>\n    <tr style=\"text-align: right;\">\n      <th></th>\n      <th>Year_of_Release</th>\n      <th>NA_Sales</th>\n      <th>EU_Sales</th>\n      <th>JP_Sales</th>\n      <th>Other_Sales</th>\n      <th>Global_Sales</th>\n      <th>Critic_Score</th>\n      <th>Critic_Count</th>\n      <th>User_Count</th>\n    </tr>\n  </thead>\n  <tbody>\n    <tr>\n      <th>count</th>\n      <td>16450.000000</td>\n      <td>15848.000000</td>\n      <td>15520.000000</td>\n      <td>16719.000000</td>\n      <td>15341.000000</td>\n      <td>15728.000000</td>\n      <td>8137.000000</td>\n      <td>8137.000000</td>\n      <td>7590.000000</td>\n    </tr>\n    <tr>\n      <th>mean</th>\n      <td>2006.487356</td>\n      <td>0.263579</td>\n      <td>0.146210</td>\n      <td>0.077602</td>\n      <td>0.046820</td>\n      <td>0.531498</td>\n      <td>68.967679</td>\n      <td>26.360821</td>\n      <td>162.229908</td>\n    </tr>\n    <tr>\n      <th>std</th>\n      <td>5.878995</td>\n      <td>0.822121</td>\n      <td>0.513323</td>\n      <td>0.308818</td>\n      <td>0.175121</td>\n      <td>1.539597</td>\n      <td>13.938165</td>\n      <td>18.980495</td>\n      <td>561.282326</td>\n    </tr>\n    <tr>\n      <th>min</th>\n      <td>1980.000000</td>\n      <td>0.000000</td>\n      <td>0.000000</td>\n      <td>0.000000</td>\n      <td>0.000000</td>\n      <td>0.010000</td>\n      <td>13.000000</td>\n      <td>3.000000</td>\n      <td>4.000000</td>\n    </tr>\n    <tr>\n      <th>25%</th>\n      <td>2003.000000</td>\n      <td>0.000000</td>\n      <td>0.000000</td>\n      <td>0.000000</td>\n      <td>0.000000</td>\n      <td>0.060000</td>\n      <td>60.000000</td>\n      <td>12.000000</td>\n      <td>10.000000</td>\n    </tr>\n    <tr>\n      <th>50%</th>\n      <td>2007.000000</td>\n      <td>0.080000</td>\n      <td>0.020000</td>\n      <td>0.000000</td>\n      <td>0.010000</td>\n      <td>0.170000</td>\n      <td>71.000000</td>\n      <td>21.000000</td>\n      <td>24.000000</td>\n    </tr>\n    <tr>\n      <th>75%</th>\n      <td>2010.000000</td>\n      <td>0.240000</td>\n      <td>0.110000</td>\n      <td>0.040000</td>\n      <td>0.030000</td>\n      <td>0.470000</td>\n      <td>79.000000</td>\n      <td>36.000000</td>\n      <td>81.000000</td>\n    </tr>\n    <tr>\n      <th>max</th>\n      <td>2020.000000</td>\n      <td>41.360000</td>\n      <td>28.960000</td>\n      <td>10.220000</td>\n      <td>10.570000</td>\n      <td>82.530000</td>\n      <td>98.000000</td>\n      <td>113.000000</td>\n      <td>10665.000000</td>\n    </tr>\n  </tbody>\n</table>\n</div>"
     },
     "metadata": {},
     "execution_count": 8
    }
   ],
   "source": [
    "df.describe()"
   ]
  },
  {
   "cell_type": "code",
   "execution_count": null,
   "metadata": {},
   "outputs": [],
   "source": []
  }
 ]
}