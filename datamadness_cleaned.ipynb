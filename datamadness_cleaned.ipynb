{
 "nbformat": 4,
 "nbformat_minor": 2,
 "metadata": {
  "language_info": {
   "name": "python",
   "codemirror_mode": {
    "name": "ipython",
    "version": 3
   },
   "version": "3.7.3-final"
  },
  "orig_nbformat": 2,
  "file_extension": ".py",
  "mimetype": "text/x-python",
  "name": "python",
  "npconvert_exporter": "python",
  "pygments_lexer": "ipython3",
  "version": 3,
  "kernelspec": {
   "name": "python3",
   "display_name": "Python 3"
  }
 },
 "cells": [
  {
   "cell_type": "code",
   "execution_count": 17,
   "metadata": {},
   "outputs": [],
   "source": [
    "import IPython.core.display\n",
    "import matplotlib\n",
    "\n",
    "def apply_styles():\n",
    "    matplotlib.rcParams['font.size'] = 12\n",
    "    matplotlib.rcParams['figure.figsize'] = (18, 6)\n",
    "    matplotlib.rcParams['lines.linewidth'] = 1\n",
    "\n",
    "apply_styles()\n",
    "\n",
    "import pandas as pd\n",
    "import numpy as np\n",
    "import seaborn as sns\n",
    "import matplotlib.pyplot as plt\n",
    "%matplotlib inline\n",
    "sns.set(style=\"ticks\")\n",
    "import warnings\n",
    "warnings.filterwarnings('ignore')\n",
    ""
   ]
  },
  {
   "cell_type": "code",
   "execution_count": null,
   "metadata": {},
   "outputs": [],
   "source": []
  },
  {
   "cell_type": "code",
   "execution_count": 18,
   "metadata": {},
   "outputs": [],
   "source": [
    "df = pd.read_csv(\"data/vgsales.csv\")\n",
    "# df.value.astype(int, copy=False);"
   ]
  },
  {
   "cell_type": "code",
   "execution_count": 19,
   "metadata": {},
   "outputs": [
    {
     "output_type": "execute_result",
     "data": {
      "text/plain": "                                            Name Platform  Year_of_Release  \\\n0                                     Wii Sports      Wii           2006.0   \n1                              Super Mario Bros.      NES           1985.0   \n2                                 Mario Kart Wii      Wii           2008.0   \n3                              Wii Sports Resort      Wii           2009.0   \n4                       Pokemon Red/Pokemon Blue       GB           1996.0   \n5                                         Tetris       GB           1989.0   \n6                          New Super Mario Bros.       DS           2006.0   \n7                                       Wii Play      Wii           2006.0   \n8                      New Super Mario Bros. Wii      Wii           2009.0   \n9                                      Duck Hunt      NES           1984.0   \n10                                    Nintendogs       DS           2005.0   \n11                                 Mario Kart DS       DS           2005.0   \n12                   Pokemon Gold/Pokemon Silver       GB           1999.0   \n13                                       Wii Fit      Wii           2007.0   \n14                            Kinect Adventures!     X360           2010.0   \n15                                  Wii Fit Plus      Wii           2009.0   \n16                            Grand Theft Auto V      PS3           2013.0   \n17                 Grand Theft Auto: San Andreas      PS2           2004.0   \n18                             Super Mario World     SNES           1990.0   \n19  Brain Age: Train Your Brain in Minutes a Day       DS           2005.0   \n20                 Pokemon Diamond/Pokemon Pearl       DS           2006.0   \n21                              Super Mario Land       GB           1989.0   \n22                           Super Mario Bros. 3      NES           1988.0   \n23                            Grand Theft Auto V     X360           2013.0   \n24                   Grand Theft Auto: Vice City      PS2           2002.0   \n25                 Pokemon Ruby/Pokemon Sapphire      GBA           2002.0   \n26   Brain Age 2: More Training in Minutes a Day       DS           2005.0   \n27                   Pokemon Black/Pokemon White       DS           2010.0   \n28                        Gran Turismo 3: A-Spec      PS2           2001.0   \n29                Call of Duty: Modern Warfare 3     X360           2011.0   \n30       Pokémon Yellow: Special Pikachu Edition       GB           1998.0   \n31                     Call of Duty: Black Ops 3      PS4           2015.0   \n32                       Call of Duty: Black Ops     X360           2010.0   \n33                           Pokemon X/Pokemon Y      3DS           2013.0   \n34                    Call of Duty: Black Ops II      PS3           2012.0   \n35                    Call of Duty: Black Ops II     X360           2012.0   \n36                Call of Duty: Modern Warfare 2     X360           2009.0   \n37                Call of Duty: Modern Warfare 3      PS3           2011.0   \n38                          Grand Theft Auto III      PS2           2001.0   \n39                       Super Smash Bros. Brawl      Wii           2008.0   \n40                                  Mario Kart 7      3DS           2011.0   \n41                       Call of Duty: Black Ops      PS3           2010.0   \n42                            Grand Theft Auto V      PS4           2014.0   \n43                   Animal Crossing: Wild World       DS           2005.0   \n44                                        Halo 3     X360           2007.0   \n45                                Super Mario 64      N64           1996.0   \n46          Pokemon HeartGold/Pokemon SoulSilver       DS           2009.0   \n47     Pokemon Omega Ruby/Pokemon Alpha Sapphire      3DS           2014.0   \n48                                Gran Turismo 4      PS2           2004.0   \n49                            Super Mario Galaxy      Wii           2007.0   \n50            Super Mario Land 2: 6 Golden Coins       GB           1992.0   \n51                           Grand Theft Auto IV     X360           2008.0   \n52                                  Gran Turismo       PS           1997.0   \n53                           Super Mario 3D Land      3DS           2011.0   \n54                                Gran Turismo 5      PS3           2010.0   \n\n           Genre                    Publisher  NA_Sales  EU_Sales  JP_Sales  \\\n0         Sports                     Nintendo     41.36     28.96      3.77   \n1       Platform                     Nintendo     29.08      3.58      6.81   \n2         Racing                     Nintendo     15.68     12.76      3.79   \n3         Sports                     Nintendo     15.61     10.93      3.28   \n4   Role-Playing                     Nintendo     11.27      8.89     10.22   \n5         Puzzle                     Nintendo     23.20      2.26      4.22   \n6       Platform                     Nintendo     11.28      9.14      6.50   \n7           Misc                     Nintendo     13.96      9.18      2.93   \n8       Platform                     Nintendo     14.44      6.94      4.70   \n9        Shooter                     Nintendo     26.93      0.63      0.28   \n10    Simulation                     Nintendo      9.05     10.95      1.93   \n11        Racing                     Nintendo      9.71      7.47      4.13   \n12  Role-Playing                     Nintendo      9.00      6.18      7.20   \n13        Sports                     Nintendo      8.92      8.03      3.60   \n14          Misc       Microsoft Game Studios     15.00       NaN      0.24   \n15        Sports                     Nintendo      9.01      8.49      2.53   \n16        Action         Take-Two Interactive      7.02      9.09      0.98   \n17        Action         Take-Two Interactive      9.43      0.40      0.41   \n18      Platform                     Nintendo     12.78      3.75      3.54   \n19          Misc                     Nintendo      4.74      9.20      4.16   \n20  Role-Playing                     Nintendo      6.38      4.46      6.04   \n21      Platform                     Nintendo     10.83      2.71      4.18   \n22      Platform                     Nintendo      9.54      3.44      3.84   \n23        Action         Take-Two Interactive      9.66      5.14      0.06   \n24        Action         Take-Two Interactive      8.41      5.49      0.47   \n25  Role-Playing                     Nintendo      6.06      3.90      5.38   \n26        Puzzle                     Nintendo      3.43      5.35      5.32   \n27  Role-Playing                     Nintendo       NaN      3.17      5.65   \n28        Racing  Sony Computer Entertainment      6.85      5.09      1.87   \n29       Shooter                   Activision      9.04      4.24      0.13   \n30  Role-Playing                     Nintendo      5.89      5.04      3.12   \n31       Shooter                   Activision       NaN      5.86      0.36   \n32       Shooter                   Activision       NaN      3.68      0.11   \n33  Role-Playing                     Nintendo      5.28      4.19      4.35   \n34       Shooter                   Activision      4.99      5.73      0.65   \n35       Shooter                   Activision      8.25       NaN      0.07   \n36       Shooter                   Activision      8.52      3.59      0.08   \n37       Shooter                   Activision      5.54      5.73      0.49   \n38        Action         Take-Two Interactive      6.99      4.51      0.30   \n39      Fighting                     Nintendo      6.62      2.55      2.66   \n40        Racing                     Nintendo      5.03      4.02      2.69   \n41       Shooter                   Activision      5.99      4.37      0.48   \n42        Action         Take-Two Interactive      3.96      6.31      0.38   \n43    Simulation                     Nintendo      2.50      3.45      5.33   \n44       Shooter       Microsoft Game Studios      7.97      2.81      0.13   \n45      Platform                     Nintendo      6.91      2.85      1.91   \n46        Action                     Nintendo      4.34       NaN      3.96   \n47  Role-Playing                     Nintendo      4.35      3.49      3.10   \n48        Racing  Sony Computer Entertainment      3.01      0.01      1.10   \n49      Platform                     Nintendo      6.06      3.35      1.20   \n50     Adventure                     Nintendo      6.16      2.04      2.69   \n51        Action         Take-Two Interactive      6.76      3.07      0.14   \n52        Racing  Sony Computer Entertainment      4.02       NaN      2.54   \n53      Platform                     Nintendo      4.89      3.00      2.14   \n54        Racing  Sony Computer Entertainment      2.96      4.82      0.81   \n\n    Other_Sales  Global_Sales  Critic_Score  Critic_Count User_Score  \\\n0           NaN         82.53          76.0          51.0          8   \n1          0.77         40.24           NaN           NaN        NaN   \n2          3.29         35.52          82.0          73.0        8.3   \n3           NaN         32.77          80.0          73.0          8   \n4          1.00         31.37           NaN           NaN        NaN   \n5          0.58         30.26           NaN           NaN        NaN   \n6          2.88         29.80          89.0          65.0        8.5   \n7          2.84         28.92          58.0          41.0        6.6   \n8          2.24         28.32          87.0          80.0        8.4   \n9          0.47         28.31           NaN           NaN        NaN   \n10         2.74         24.67           NaN           NaN        NaN   \n11         1.90         23.21          91.0          64.0        8.6   \n12         0.71           NaN           NaN           NaN        NaN   \n13         2.15         22.70          80.0          63.0        7.7   \n14         1.69           NaN          61.0          45.0        6.3   \n15         1.77         21.79          80.0          33.0        7.4   \n16          NaN           NaN          97.0          50.0        8.2   \n17        10.57         20.81          95.0          80.0          9   \n18         0.55         20.61           NaN           NaN        NaN   \n19         2.04         20.15          77.0          58.0        7.9   \n20         1.36         18.25           NaN           NaN        NaN   \n21         0.42         18.14           NaN           NaN        NaN   \n22         0.46         17.28           NaN           NaN        NaN   \n23         1.41         16.27          97.0          58.0        8.1   \n24         1.78         16.15          95.0          62.0        8.7   \n25          NaN         15.85           NaN           NaN        NaN   \n26         1.18         15.29          77.0          37.0        7.1   \n27         0.80         15.14           NaN           NaN        NaN   \n28         1.16         14.98          95.0          54.0        8.4   \n29         1.32           NaN          88.0          81.0        3.4   \n30         0.59         14.64           NaN           NaN        NaN   \n31         2.38         14.63           NaN           NaN        NaN   \n32         1.13         14.61          87.0          89.0        6.3   \n33         0.78           NaN           NaN           NaN        NaN   \n34         2.42         13.79          83.0          21.0        5.3   \n35         1.12         13.67          83.0          73.0        4.8   \n36         1.28           NaN          94.0         100.0        6.3   \n37         1.57         13.32          88.0          39.0        3.2   \n38         1.30         13.10          97.0          56.0        8.5   \n39         1.01         12.84          93.0          81.0        8.9   \n40         0.91         12.66          85.0          73.0        8.2   \n41         1.79         12.63          88.0          58.0        6.4   \n42         1.97         12.61          97.0          66.0        8.3   \n43         0.86         12.13          86.0          57.0        8.7   \n44          NaN         12.12          94.0          86.0        7.8   \n45         0.23         11.89           NaN           NaN        NaN   \n46         0.76           NaN           NaN           NaN        NaN   \n47         0.74         11.68           NaN           NaN        NaN   \n48         7.53         11.66          89.0          74.0        8.5   \n49         0.74         11.35          97.0          73.0        8.9   \n50         0.29         11.18           NaN           NaN        NaN   \n51         1.03         11.01          98.0          86.0        7.9   \n52         0.52         10.95          96.0          16.0        8.7   \n53         0.78         10.81          90.0          82.0        8.4   \n54         2.11         10.70          84.0          82.0        7.5   \n\n    User_Count                                          Developer Rating  \n0        322.0                                           Nintendo      E  \n1          NaN                                                NaN    NaN  \n2        709.0                                           Nintendo      E  \n3        192.0                                           Nintendo      E  \n4          NaN                                                NaN    NaN  \n5          NaN                                                NaN    NaN  \n6        431.0                                           Nintendo      E  \n7        129.0                                           Nintendo      E  \n8        594.0                                           Nintendo      E  \n9          NaN                                                NaN    NaN  \n10         NaN                                                NaN    NaN  \n11       464.0                                           Nintendo      E  \n12         NaN                                                NaN    NaN  \n13       146.0                                           Nintendo      E  \n14       106.0                                Good Science Studio      E  \n15        52.0                                           Nintendo      E  \n16      3994.0                                     Rockstar North      M  \n17      1588.0                                     Rockstar North      M  \n18         NaN                                                NaN    NaN  \n19        50.0                                           Nintendo      E  \n20         NaN                                                NaN    NaN  \n21         NaN                                                NaN    NaN  \n22         NaN                                                NaN    NaN  \n23      3711.0                                     Rockstar North      M  \n24       730.0                                     Rockstar North      M  \n25         NaN                                                NaN    NaN  \n26        19.0                                           Nintendo      E  \n27         NaN                                                NaN    NaN  \n28       314.0                                  Polyphony Digital      E  \n29      8713.0                  Infinity Ward, Sledgehammer Games      M  \n30         NaN                                                NaN    NaN  \n31         NaN                                                NaN    NaN  \n32      1454.0                                           Treyarch      M  \n33         NaN                                                NaN    NaN  \n34       922.0                                           Treyarch      M  \n35      2256.0                                           Treyarch      M  \n36      2698.0                                      Infinity Ward      M  \n37      5234.0                  Infinity Ward, Sledgehammer Games      M  \n38       664.0                                         DMA Design      M  \n39      1662.0                                          Game Arts      T  \n40       632.0  Retro Studios, Entertainment Analysis & Develo...      E  \n41      1094.0                                           Treyarch      M  \n42      2899.0                                     Rockstar North      M  \n43       242.0                                           Nintendo      E  \n44      4100.0                            Bungie Software, Bungie      M  \n45         NaN                                                NaN    NaN  \n46         NaN                                                NaN    NaN  \n47         NaN                                                NaN    NaN  \n48       272.0                                  Polyphony Digital      E  \n49      2147.0                                           Nintendo      E  \n50         NaN                                                NaN    NaN  \n51      2951.0                                     Rockstar North      M  \n52       138.0                                  Polyphony Digital      E  \n53       921.0                                           Nintendo      E  \n54      1112.0                                  Polyphony Digital      E  ",
      "text/html": "<div>\n<style scoped>\n    .dataframe tbody tr th:only-of-type {\n        vertical-align: middle;\n    }\n\n    .dataframe tbody tr th {\n        vertical-align: top;\n    }\n\n    .dataframe thead th {\n        text-align: right;\n    }\n</style>\n<table border=\"1\" class=\"dataframe\">\n  <thead>\n    <tr style=\"text-align: right;\">\n      <th></th>\n      <th>Name</th>\n      <th>Platform</th>\n      <th>Year_of_Release</th>\n      <th>Genre</th>\n      <th>Publisher</th>\n      <th>NA_Sales</th>\n      <th>EU_Sales</th>\n      <th>JP_Sales</th>\n      <th>Other_Sales</th>\n      <th>Global_Sales</th>\n      <th>Critic_Score</th>\n      <th>Critic_Count</th>\n      <th>User_Score</th>\n      <th>User_Count</th>\n      <th>Developer</th>\n      <th>Rating</th>\n    </tr>\n  </thead>\n  <tbody>\n    <tr>\n      <th>0</th>\n      <td>Wii Sports</td>\n      <td>Wii</td>\n      <td>2006.0</td>\n      <td>Sports</td>\n      <td>Nintendo</td>\n      <td>41.36</td>\n      <td>28.96</td>\n      <td>3.77</td>\n      <td>NaN</td>\n      <td>82.53</td>\n      <td>76.0</td>\n      <td>51.0</td>\n      <td>8</td>\n      <td>322.0</td>\n      <td>Nintendo</td>\n      <td>E</td>\n    </tr>\n    <tr>\n      <th>1</th>\n      <td>Super Mario Bros.</td>\n      <td>NES</td>\n      <td>1985.0</td>\n      <td>Platform</td>\n      <td>Nintendo</td>\n      <td>29.08</td>\n      <td>3.58</td>\n      <td>6.81</td>\n      <td>0.77</td>\n      <td>40.24</td>\n      <td>NaN</td>\n      <td>NaN</td>\n      <td>NaN</td>\n      <td>NaN</td>\n      <td>NaN</td>\n      <td>NaN</td>\n    </tr>\n    <tr>\n      <th>2</th>\n      <td>Mario Kart Wii</td>\n      <td>Wii</td>\n      <td>2008.0</td>\n      <td>Racing</td>\n      <td>Nintendo</td>\n      <td>15.68</td>\n      <td>12.76</td>\n      <td>3.79</td>\n      <td>3.29</td>\n      <td>35.52</td>\n      <td>82.0</td>\n      <td>73.0</td>\n      <td>8.3</td>\n      <td>709.0</td>\n      <td>Nintendo</td>\n      <td>E</td>\n    </tr>\n    <tr>\n      <th>3</th>\n      <td>Wii Sports Resort</td>\n      <td>Wii</td>\n      <td>2009.0</td>\n      <td>Sports</td>\n      <td>Nintendo</td>\n      <td>15.61</td>\n      <td>10.93</td>\n      <td>3.28</td>\n      <td>NaN</td>\n      <td>32.77</td>\n      <td>80.0</td>\n      <td>73.0</td>\n      <td>8</td>\n      <td>192.0</td>\n      <td>Nintendo</td>\n      <td>E</td>\n    </tr>\n    <tr>\n      <th>4</th>\n      <td>Pokemon Red/Pokemon Blue</td>\n      <td>GB</td>\n      <td>1996.0</td>\n      <td>Role-Playing</td>\n      <td>Nintendo</td>\n      <td>11.27</td>\n      <td>8.89</td>\n      <td>10.22</td>\n      <td>1.00</td>\n      <td>31.37</td>\n      <td>NaN</td>\n      <td>NaN</td>\n      <td>NaN</td>\n      <td>NaN</td>\n      <td>NaN</td>\n      <td>NaN</td>\n    </tr>\n    <tr>\n      <th>5</th>\n      <td>Tetris</td>\n      <td>GB</td>\n      <td>1989.0</td>\n      <td>Puzzle</td>\n      <td>Nintendo</td>\n      <td>23.20</td>\n      <td>2.26</td>\n      <td>4.22</td>\n      <td>0.58</td>\n      <td>30.26</td>\n      <td>NaN</td>\n      <td>NaN</td>\n      <td>NaN</td>\n      <td>NaN</td>\n      <td>NaN</td>\n      <td>NaN</td>\n    </tr>\n    <tr>\n      <th>6</th>\n      <td>New Super Mario Bros.</td>\n      <td>DS</td>\n      <td>2006.0</td>\n      <td>Platform</td>\n      <td>Nintendo</td>\n      <td>11.28</td>\n      <td>9.14</td>\n      <td>6.50</td>\n      <td>2.88</td>\n      <td>29.80</td>\n      <td>89.0</td>\n      <td>65.0</td>\n      <td>8.5</td>\n      <td>431.0</td>\n      <td>Nintendo</td>\n      <td>E</td>\n    </tr>\n    <tr>\n      <th>7</th>\n      <td>Wii Play</td>\n      <td>Wii</td>\n      <td>2006.0</td>\n      <td>Misc</td>\n      <td>Nintendo</td>\n      <td>13.96</td>\n      <td>9.18</td>\n      <td>2.93</td>\n      <td>2.84</td>\n      <td>28.92</td>\n      <td>58.0</td>\n      <td>41.0</td>\n      <td>6.6</td>\n      <td>129.0</td>\n      <td>Nintendo</td>\n      <td>E</td>\n    </tr>\n    <tr>\n      <th>8</th>\n      <td>New Super Mario Bros. Wii</td>\n      <td>Wii</td>\n      <td>2009.0</td>\n      <td>Platform</td>\n      <td>Nintendo</td>\n      <td>14.44</td>\n      <td>6.94</td>\n      <td>4.70</td>\n      <td>2.24</td>\n      <td>28.32</td>\n      <td>87.0</td>\n      <td>80.0</td>\n      <td>8.4</td>\n      <td>594.0</td>\n      <td>Nintendo</td>\n      <td>E</td>\n    </tr>\n    <tr>\n      <th>9</th>\n      <td>Duck Hunt</td>\n      <td>NES</td>\n      <td>1984.0</td>\n      <td>Shooter</td>\n      <td>Nintendo</td>\n      <td>26.93</td>\n      <td>0.63</td>\n      <td>0.28</td>\n      <td>0.47</td>\n      <td>28.31</td>\n      <td>NaN</td>\n      <td>NaN</td>\n      <td>NaN</td>\n      <td>NaN</td>\n      <td>NaN</td>\n      <td>NaN</td>\n    </tr>\n    <tr>\n      <th>10</th>\n      <td>Nintendogs</td>\n      <td>DS</td>\n      <td>2005.0</td>\n      <td>Simulation</td>\n      <td>Nintendo</td>\n      <td>9.05</td>\n      <td>10.95</td>\n      <td>1.93</td>\n      <td>2.74</td>\n      <td>24.67</td>\n      <td>NaN</td>\n      <td>NaN</td>\n      <td>NaN</td>\n      <td>NaN</td>\n      <td>NaN</td>\n      <td>NaN</td>\n    </tr>\n    <tr>\n      <th>11</th>\n      <td>Mario Kart DS</td>\n      <td>DS</td>\n      <td>2005.0</td>\n      <td>Racing</td>\n      <td>Nintendo</td>\n      <td>9.71</td>\n      <td>7.47</td>\n      <td>4.13</td>\n      <td>1.90</td>\n      <td>23.21</td>\n      <td>91.0</td>\n      <td>64.0</td>\n      <td>8.6</td>\n      <td>464.0</td>\n      <td>Nintendo</td>\n      <td>E</td>\n    </tr>\n    <tr>\n      <th>12</th>\n      <td>Pokemon Gold/Pokemon Silver</td>\n      <td>GB</td>\n      <td>1999.0</td>\n      <td>Role-Playing</td>\n      <td>Nintendo</td>\n      <td>9.00</td>\n      <td>6.18</td>\n      <td>7.20</td>\n      <td>0.71</td>\n      <td>NaN</td>\n      <td>NaN</td>\n      <td>NaN</td>\n      <td>NaN</td>\n      <td>NaN</td>\n      <td>NaN</td>\n      <td>NaN</td>\n    </tr>\n    <tr>\n      <th>13</th>\n      <td>Wii Fit</td>\n      <td>Wii</td>\n      <td>2007.0</td>\n      <td>Sports</td>\n      <td>Nintendo</td>\n      <td>8.92</td>\n      <td>8.03</td>\n      <td>3.60</td>\n      <td>2.15</td>\n      <td>22.70</td>\n      <td>80.0</td>\n      <td>63.0</td>\n      <td>7.7</td>\n      <td>146.0</td>\n      <td>Nintendo</td>\n      <td>E</td>\n    </tr>\n    <tr>\n      <th>14</th>\n      <td>Kinect Adventures!</td>\n      <td>X360</td>\n      <td>2010.0</td>\n      <td>Misc</td>\n      <td>Microsoft Game Studios</td>\n      <td>15.00</td>\n      <td>NaN</td>\n      <td>0.24</td>\n      <td>1.69</td>\n      <td>NaN</td>\n      <td>61.0</td>\n      <td>45.0</td>\n      <td>6.3</td>\n      <td>106.0</td>\n      <td>Good Science Studio</td>\n      <td>E</td>\n    </tr>\n    <tr>\n      <th>15</th>\n      <td>Wii Fit Plus</td>\n      <td>Wii</td>\n      <td>2009.0</td>\n      <td>Sports</td>\n      <td>Nintendo</td>\n      <td>9.01</td>\n      <td>8.49</td>\n      <td>2.53</td>\n      <td>1.77</td>\n      <td>21.79</td>\n      <td>80.0</td>\n      <td>33.0</td>\n      <td>7.4</td>\n      <td>52.0</td>\n      <td>Nintendo</td>\n      <td>E</td>\n    </tr>\n    <tr>\n      <th>16</th>\n      <td>Grand Theft Auto V</td>\n      <td>PS3</td>\n      <td>2013.0</td>\n      <td>Action</td>\n      <td>Take-Two Interactive</td>\n      <td>7.02</td>\n      <td>9.09</td>\n      <td>0.98</td>\n      <td>NaN</td>\n      <td>NaN</td>\n      <td>97.0</td>\n      <td>50.0</td>\n      <td>8.2</td>\n      <td>3994.0</td>\n      <td>Rockstar North</td>\n      <td>M</td>\n    </tr>\n    <tr>\n      <th>17</th>\n      <td>Grand Theft Auto: San Andreas</td>\n      <td>PS2</td>\n      <td>2004.0</td>\n      <td>Action</td>\n      <td>Take-Two Interactive</td>\n      <td>9.43</td>\n      <td>0.40</td>\n      <td>0.41</td>\n      <td>10.57</td>\n      <td>20.81</td>\n      <td>95.0</td>\n      <td>80.0</td>\n      <td>9</td>\n      <td>1588.0</td>\n      <td>Rockstar North</td>\n      <td>M</td>\n    </tr>\n    <tr>\n      <th>18</th>\n      <td>Super Mario World</td>\n      <td>SNES</td>\n      <td>1990.0</td>\n      <td>Platform</td>\n      <td>Nintendo</td>\n      <td>12.78</td>\n      <td>3.75</td>\n      <td>3.54</td>\n      <td>0.55</td>\n      <td>20.61</td>\n      <td>NaN</td>\n      <td>NaN</td>\n      <td>NaN</td>\n      <td>NaN</td>\n      <td>NaN</td>\n      <td>NaN</td>\n    </tr>\n    <tr>\n      <th>19</th>\n      <td>Brain Age: Train Your Brain in Minutes a Day</td>\n      <td>DS</td>\n      <td>2005.0</td>\n      <td>Misc</td>\n      <td>Nintendo</td>\n      <td>4.74</td>\n      <td>9.20</td>\n      <td>4.16</td>\n      <td>2.04</td>\n      <td>20.15</td>\n      <td>77.0</td>\n      <td>58.0</td>\n      <td>7.9</td>\n      <td>50.0</td>\n      <td>Nintendo</td>\n      <td>E</td>\n    </tr>\n    <tr>\n      <th>20</th>\n      <td>Pokemon Diamond/Pokemon Pearl</td>\n      <td>DS</td>\n      <td>2006.0</td>\n      <td>Role-Playing</td>\n      <td>Nintendo</td>\n      <td>6.38</td>\n      <td>4.46</td>\n      <td>6.04</td>\n      <td>1.36</td>\n      <td>18.25</td>\n      <td>NaN</td>\n      <td>NaN</td>\n      <td>NaN</td>\n      <td>NaN</td>\n      <td>NaN</td>\n      <td>NaN</td>\n    </tr>\n    <tr>\n      <th>21</th>\n      <td>Super Mario Land</td>\n      <td>GB</td>\n      <td>1989.0</td>\n      <td>Platform</td>\n      <td>Nintendo</td>\n      <td>10.83</td>\n      <td>2.71</td>\n      <td>4.18</td>\n      <td>0.42</td>\n      <td>18.14</td>\n      <td>NaN</td>\n      <td>NaN</td>\n      <td>NaN</td>\n      <td>NaN</td>\n      <td>NaN</td>\n      <td>NaN</td>\n    </tr>\n    <tr>\n      <th>22</th>\n      <td>Super Mario Bros. 3</td>\n      <td>NES</td>\n      <td>1988.0</td>\n      <td>Platform</td>\n      <td>Nintendo</td>\n      <td>9.54</td>\n      <td>3.44</td>\n      <td>3.84</td>\n      <td>0.46</td>\n      <td>17.28</td>\n      <td>NaN</td>\n      <td>NaN</td>\n      <td>NaN</td>\n      <td>NaN</td>\n      <td>NaN</td>\n      <td>NaN</td>\n    </tr>\n    <tr>\n      <th>23</th>\n      <td>Grand Theft Auto V</td>\n      <td>X360</td>\n      <td>2013.0</td>\n      <td>Action</td>\n      <td>Take-Two Interactive</td>\n      <td>9.66</td>\n      <td>5.14</td>\n      <td>0.06</td>\n      <td>1.41</td>\n      <td>16.27</td>\n      <td>97.0</td>\n      <td>58.0</td>\n      <td>8.1</td>\n      <td>3711.0</td>\n      <td>Rockstar North</td>\n      <td>M</td>\n    </tr>\n    <tr>\n      <th>24</th>\n      <td>Grand Theft Auto: Vice City</td>\n      <td>PS2</td>\n      <td>2002.0</td>\n      <td>Action</td>\n      <td>Take-Two Interactive</td>\n      <td>8.41</td>\n      <td>5.49</td>\n      <td>0.47</td>\n      <td>1.78</td>\n      <td>16.15</td>\n      <td>95.0</td>\n      <td>62.0</td>\n      <td>8.7</td>\n      <td>730.0</td>\n      <td>Rockstar North</td>\n      <td>M</td>\n    </tr>\n    <tr>\n      <th>25</th>\n      <td>Pokemon Ruby/Pokemon Sapphire</td>\n      <td>GBA</td>\n      <td>2002.0</td>\n      <td>Role-Playing</td>\n      <td>Nintendo</td>\n      <td>6.06</td>\n      <td>3.90</td>\n      <td>5.38</td>\n      <td>NaN</td>\n      <td>15.85</td>\n      <td>NaN</td>\n      <td>NaN</td>\n      <td>NaN</td>\n      <td>NaN</td>\n      <td>NaN</td>\n      <td>NaN</td>\n    </tr>\n    <tr>\n      <th>26</th>\n      <td>Brain Age 2: More Training in Minutes a Day</td>\n      <td>DS</td>\n      <td>2005.0</td>\n      <td>Puzzle</td>\n      <td>Nintendo</td>\n      <td>3.43</td>\n      <td>5.35</td>\n      <td>5.32</td>\n      <td>1.18</td>\n      <td>15.29</td>\n      <td>77.0</td>\n      <td>37.0</td>\n      <td>7.1</td>\n      <td>19.0</td>\n      <td>Nintendo</td>\n      <td>E</td>\n    </tr>\n    <tr>\n      <th>27</th>\n      <td>Pokemon Black/Pokemon White</td>\n      <td>DS</td>\n      <td>2010.0</td>\n      <td>Role-Playing</td>\n      <td>Nintendo</td>\n      <td>NaN</td>\n      <td>3.17</td>\n      <td>5.65</td>\n      <td>0.80</td>\n      <td>15.14</td>\n      <td>NaN</td>\n      <td>NaN</td>\n      <td>NaN</td>\n      <td>NaN</td>\n      <td>NaN</td>\n      <td>NaN</td>\n    </tr>\n    <tr>\n      <th>28</th>\n      <td>Gran Turismo 3: A-Spec</td>\n      <td>PS2</td>\n      <td>2001.0</td>\n      <td>Racing</td>\n      <td>Sony Computer Entertainment</td>\n      <td>6.85</td>\n      <td>5.09</td>\n      <td>1.87</td>\n      <td>1.16</td>\n      <td>14.98</td>\n      <td>95.0</td>\n      <td>54.0</td>\n      <td>8.4</td>\n      <td>314.0</td>\n      <td>Polyphony Digital</td>\n      <td>E</td>\n    </tr>\n    <tr>\n      <th>29</th>\n      <td>Call of Duty: Modern Warfare 3</td>\n      <td>X360</td>\n      <td>2011.0</td>\n      <td>Shooter</td>\n      <td>Activision</td>\n      <td>9.04</td>\n      <td>4.24</td>\n      <td>0.13</td>\n      <td>1.32</td>\n      <td>NaN</td>\n      <td>88.0</td>\n      <td>81.0</td>\n      <td>3.4</td>\n      <td>8713.0</td>\n      <td>Infinity Ward, Sledgehammer Games</td>\n      <td>M</td>\n    </tr>\n    <tr>\n      <th>30</th>\n      <td>Pokémon Yellow: Special Pikachu Edition</td>\n      <td>GB</td>\n      <td>1998.0</td>\n      <td>Role-Playing</td>\n      <td>Nintendo</td>\n      <td>5.89</td>\n      <td>5.04</td>\n      <td>3.12</td>\n      <td>0.59</td>\n      <td>14.64</td>\n      <td>NaN</td>\n      <td>NaN</td>\n      <td>NaN</td>\n      <td>NaN</td>\n      <td>NaN</td>\n      <td>NaN</td>\n    </tr>\n    <tr>\n      <th>31</th>\n      <td>Call of Duty: Black Ops 3</td>\n      <td>PS4</td>\n      <td>2015.0</td>\n      <td>Shooter</td>\n      <td>Activision</td>\n      <td>NaN</td>\n      <td>5.86</td>\n      <td>0.36</td>\n      <td>2.38</td>\n      <td>14.63</td>\n      <td>NaN</td>\n      <td>NaN</td>\n      <td>NaN</td>\n      <td>NaN</td>\n      <td>NaN</td>\n      <td>NaN</td>\n    </tr>\n    <tr>\n      <th>32</th>\n      <td>Call of Duty: Black Ops</td>\n      <td>X360</td>\n      <td>2010.0</td>\n      <td>Shooter</td>\n      <td>Activision</td>\n      <td>NaN</td>\n      <td>3.68</td>\n      <td>0.11</td>\n      <td>1.13</td>\n      <td>14.61</td>\n      <td>87.0</td>\n      <td>89.0</td>\n      <td>6.3</td>\n      <td>1454.0</td>\n      <td>Treyarch</td>\n      <td>M</td>\n    </tr>\n    <tr>\n      <th>33</th>\n      <td>Pokemon X/Pokemon Y</td>\n      <td>3DS</td>\n      <td>2013.0</td>\n      <td>Role-Playing</td>\n      <td>Nintendo</td>\n      <td>5.28</td>\n      <td>4.19</td>\n      <td>4.35</td>\n      <td>0.78</td>\n      <td>NaN</td>\n      <td>NaN</td>\n      <td>NaN</td>\n      <td>NaN</td>\n      <td>NaN</td>\n      <td>NaN</td>\n      <td>NaN</td>\n    </tr>\n    <tr>\n      <th>34</th>\n      <td>Call of Duty: Black Ops II</td>\n      <td>PS3</td>\n      <td>2012.0</td>\n      <td>Shooter</td>\n      <td>Activision</td>\n      <td>4.99</td>\n      <td>5.73</td>\n      <td>0.65</td>\n      <td>2.42</td>\n      <td>13.79</td>\n      <td>83.0</td>\n      <td>21.0</td>\n      <td>5.3</td>\n      <td>922.0</td>\n      <td>Treyarch</td>\n      <td>M</td>\n    </tr>\n    <tr>\n      <th>35</th>\n      <td>Call of Duty: Black Ops II</td>\n      <td>X360</td>\n      <td>2012.0</td>\n      <td>Shooter</td>\n      <td>Activision</td>\n      <td>8.25</td>\n      <td>NaN</td>\n      <td>0.07</td>\n      <td>1.12</td>\n      <td>13.67</td>\n      <td>83.0</td>\n      <td>73.0</td>\n      <td>4.8</td>\n      <td>2256.0</td>\n      <td>Treyarch</td>\n      <td>M</td>\n    </tr>\n    <tr>\n      <th>36</th>\n      <td>Call of Duty: Modern Warfare 2</td>\n      <td>X360</td>\n      <td>2009.0</td>\n      <td>Shooter</td>\n      <td>Activision</td>\n      <td>8.52</td>\n      <td>3.59</td>\n      <td>0.08</td>\n      <td>1.28</td>\n      <td>NaN</td>\n      <td>94.0</td>\n      <td>100.0</td>\n      <td>6.3</td>\n      <td>2698.0</td>\n      <td>Infinity Ward</td>\n      <td>M</td>\n    </tr>\n    <tr>\n      <th>37</th>\n      <td>Call of Duty: Modern Warfare 3</td>\n      <td>PS3</td>\n      <td>2011.0</td>\n      <td>Shooter</td>\n      <td>Activision</td>\n      <td>5.54</td>\n      <td>5.73</td>\n      <td>0.49</td>\n      <td>1.57</td>\n      <td>13.32</td>\n      <td>88.0</td>\n      <td>39.0</td>\n      <td>3.2</td>\n      <td>5234.0</td>\n      <td>Infinity Ward, Sledgehammer Games</td>\n      <td>M</td>\n    </tr>\n    <tr>\n      <th>38</th>\n      <td>Grand Theft Auto III</td>\n      <td>PS2</td>\n      <td>2001.0</td>\n      <td>Action</td>\n      <td>Take-Two Interactive</td>\n      <td>6.99</td>\n      <td>4.51</td>\n      <td>0.30</td>\n      <td>1.30</td>\n      <td>13.10</td>\n      <td>97.0</td>\n      <td>56.0</td>\n      <td>8.5</td>\n      <td>664.0</td>\n      <td>DMA Design</td>\n      <td>M</td>\n    </tr>\n    <tr>\n      <th>39</th>\n      <td>Super Smash Bros. Brawl</td>\n      <td>Wii</td>\n      <td>2008.0</td>\n      <td>Fighting</td>\n      <td>Nintendo</td>\n      <td>6.62</td>\n      <td>2.55</td>\n      <td>2.66</td>\n      <td>1.01</td>\n      <td>12.84</td>\n      <td>93.0</td>\n      <td>81.0</td>\n      <td>8.9</td>\n      <td>1662.0</td>\n      <td>Game Arts</td>\n      <td>T</td>\n    </tr>\n    <tr>\n      <th>40</th>\n      <td>Mario Kart 7</td>\n      <td>3DS</td>\n      <td>2011.0</td>\n      <td>Racing</td>\n      <td>Nintendo</td>\n      <td>5.03</td>\n      <td>4.02</td>\n      <td>2.69</td>\n      <td>0.91</td>\n      <td>12.66</td>\n      <td>85.0</td>\n      <td>73.0</td>\n      <td>8.2</td>\n      <td>632.0</td>\n      <td>Retro Studios, Entertainment Analysis &amp; Develo...</td>\n      <td>E</td>\n    </tr>\n    <tr>\n      <th>41</th>\n      <td>Call of Duty: Black Ops</td>\n      <td>PS3</td>\n      <td>2010.0</td>\n      <td>Shooter</td>\n      <td>Activision</td>\n      <td>5.99</td>\n      <td>4.37</td>\n      <td>0.48</td>\n      <td>1.79</td>\n      <td>12.63</td>\n      <td>88.0</td>\n      <td>58.0</td>\n      <td>6.4</td>\n      <td>1094.0</td>\n      <td>Treyarch</td>\n      <td>M</td>\n    </tr>\n    <tr>\n      <th>42</th>\n      <td>Grand Theft Auto V</td>\n      <td>PS4</td>\n      <td>2014.0</td>\n      <td>Action</td>\n      <td>Take-Two Interactive</td>\n      <td>3.96</td>\n      <td>6.31</td>\n      <td>0.38</td>\n      <td>1.97</td>\n      <td>12.61</td>\n      <td>97.0</td>\n      <td>66.0</td>\n      <td>8.3</td>\n      <td>2899.0</td>\n      <td>Rockstar North</td>\n      <td>M</td>\n    </tr>\n    <tr>\n      <th>43</th>\n      <td>Animal Crossing: Wild World</td>\n      <td>DS</td>\n      <td>2005.0</td>\n      <td>Simulation</td>\n      <td>Nintendo</td>\n      <td>2.50</td>\n      <td>3.45</td>\n      <td>5.33</td>\n      <td>0.86</td>\n      <td>12.13</td>\n      <td>86.0</td>\n      <td>57.0</td>\n      <td>8.7</td>\n      <td>242.0</td>\n      <td>Nintendo</td>\n      <td>E</td>\n    </tr>\n    <tr>\n      <th>44</th>\n      <td>Halo 3</td>\n      <td>X360</td>\n      <td>2007.0</td>\n      <td>Shooter</td>\n      <td>Microsoft Game Studios</td>\n      <td>7.97</td>\n      <td>2.81</td>\n      <td>0.13</td>\n      <td>NaN</td>\n      <td>12.12</td>\n      <td>94.0</td>\n      <td>86.0</td>\n      <td>7.8</td>\n      <td>4100.0</td>\n      <td>Bungie Software, Bungie</td>\n      <td>M</td>\n    </tr>\n    <tr>\n      <th>45</th>\n      <td>Super Mario 64</td>\n      <td>N64</td>\n      <td>1996.0</td>\n      <td>Platform</td>\n      <td>Nintendo</td>\n      <td>6.91</td>\n      <td>2.85</td>\n      <td>1.91</td>\n      <td>0.23</td>\n      <td>11.89</td>\n      <td>NaN</td>\n      <td>NaN</td>\n      <td>NaN</td>\n      <td>NaN</td>\n      <td>NaN</td>\n      <td>NaN</td>\n    </tr>\n    <tr>\n      <th>46</th>\n      <td>Pokemon HeartGold/Pokemon SoulSilver</td>\n      <td>DS</td>\n      <td>2009.0</td>\n      <td>Action</td>\n      <td>Nintendo</td>\n      <td>4.34</td>\n      <td>NaN</td>\n      <td>3.96</td>\n      <td>0.76</td>\n      <td>NaN</td>\n      <td>NaN</td>\n      <td>NaN</td>\n      <td>NaN</td>\n      <td>NaN</td>\n      <td>NaN</td>\n      <td>NaN</td>\n    </tr>\n    <tr>\n      <th>47</th>\n      <td>Pokemon Omega Ruby/Pokemon Alpha Sapphire</td>\n      <td>3DS</td>\n      <td>2014.0</td>\n      <td>Role-Playing</td>\n      <td>Nintendo</td>\n      <td>4.35</td>\n      <td>3.49</td>\n      <td>3.10</td>\n      <td>0.74</td>\n      <td>11.68</td>\n      <td>NaN</td>\n      <td>NaN</td>\n      <td>NaN</td>\n      <td>NaN</td>\n      <td>NaN</td>\n      <td>NaN</td>\n    </tr>\n    <tr>\n      <th>48</th>\n      <td>Gran Turismo 4</td>\n      <td>PS2</td>\n      <td>2004.0</td>\n      <td>Racing</td>\n      <td>Sony Computer Entertainment</td>\n      <td>3.01</td>\n      <td>0.01</td>\n      <td>1.10</td>\n      <td>7.53</td>\n      <td>11.66</td>\n      <td>89.0</td>\n      <td>74.0</td>\n      <td>8.5</td>\n      <td>272.0</td>\n      <td>Polyphony Digital</td>\n      <td>E</td>\n    </tr>\n    <tr>\n      <th>49</th>\n      <td>Super Mario Galaxy</td>\n      <td>Wii</td>\n      <td>2007.0</td>\n      <td>Platform</td>\n      <td>Nintendo</td>\n      <td>6.06</td>\n      <td>3.35</td>\n      <td>1.20</td>\n      <td>0.74</td>\n      <td>11.35</td>\n      <td>97.0</td>\n      <td>73.0</td>\n      <td>8.9</td>\n      <td>2147.0</td>\n      <td>Nintendo</td>\n      <td>E</td>\n    </tr>\n    <tr>\n      <th>50</th>\n      <td>Super Mario Land 2: 6 Golden Coins</td>\n      <td>GB</td>\n      <td>1992.0</td>\n      <td>Adventure</td>\n      <td>Nintendo</td>\n      <td>6.16</td>\n      <td>2.04</td>\n      <td>2.69</td>\n      <td>0.29</td>\n      <td>11.18</td>\n      <td>NaN</td>\n      <td>NaN</td>\n      <td>NaN</td>\n      <td>NaN</td>\n      <td>NaN</td>\n      <td>NaN</td>\n    </tr>\n    <tr>\n      <th>51</th>\n      <td>Grand Theft Auto IV</td>\n      <td>X360</td>\n      <td>2008.0</td>\n      <td>Action</td>\n      <td>Take-Two Interactive</td>\n      <td>6.76</td>\n      <td>3.07</td>\n      <td>0.14</td>\n      <td>1.03</td>\n      <td>11.01</td>\n      <td>98.0</td>\n      <td>86.0</td>\n      <td>7.9</td>\n      <td>2951.0</td>\n      <td>Rockstar North</td>\n      <td>M</td>\n    </tr>\n    <tr>\n      <th>52</th>\n      <td>Gran Turismo</td>\n      <td>PS</td>\n      <td>1997.0</td>\n      <td>Racing</td>\n      <td>Sony Computer Entertainment</td>\n      <td>4.02</td>\n      <td>NaN</td>\n      <td>2.54</td>\n      <td>0.52</td>\n      <td>10.95</td>\n      <td>96.0</td>\n      <td>16.0</td>\n      <td>8.7</td>\n      <td>138.0</td>\n      <td>Polyphony Digital</td>\n      <td>E</td>\n    </tr>\n    <tr>\n      <th>53</th>\n      <td>Super Mario 3D Land</td>\n      <td>3DS</td>\n      <td>2011.0</td>\n      <td>Platform</td>\n      <td>Nintendo</td>\n      <td>4.89</td>\n      <td>3.00</td>\n      <td>2.14</td>\n      <td>0.78</td>\n      <td>10.81</td>\n      <td>90.0</td>\n      <td>82.0</td>\n      <td>8.4</td>\n      <td>921.0</td>\n      <td>Nintendo</td>\n      <td>E</td>\n    </tr>\n    <tr>\n      <th>54</th>\n      <td>Gran Turismo 5</td>\n      <td>PS3</td>\n      <td>2010.0</td>\n      <td>Racing</td>\n      <td>Sony Computer Entertainment</td>\n      <td>2.96</td>\n      <td>4.82</td>\n      <td>0.81</td>\n      <td>2.11</td>\n      <td>10.70</td>\n      <td>84.0</td>\n      <td>82.0</td>\n      <td>7.5</td>\n      <td>1112.0</td>\n      <td>Polyphony Digital</td>\n      <td>E</td>\n    </tr>\n  </tbody>\n</table>\n</div>"
     },
     "metadata": {},
     "execution_count": 19
    }
   ],
   "source": [
    "df.head(5)"
   ]
  },
  {
   "cell_type": "code",
   "execution_count": 20,
   "metadata": {},
   "outputs": [
    {
     "output_type": "execute_result",
     "data": {
      "text/plain": "10096"
     },
     "metadata": {},
     "execution_count": 20
    }
   ],
   "source": [
    "df.Developer.count()"
   ]
  },
  {
   "cell_type": "code",
   "execution_count": 21,
   "metadata": {},
   "outputs": [],
   "source": [
    "df.Name.isnull()\n",
    "df = df[df['Name'].notna()]"
   ]
  },
  {
   "cell_type": "code",
   "execution_count": 22,
   "metadata": {},
   "outputs": [
    {
     "output_type": "execute_result",
     "data": {
      "text/plain": "6702"
     },
     "metadata": {},
     "execution_count": 22
    }
   ],
   "source": [
    "df.User_Score.isnull().sum()"
   ]
  },
  {
   "cell_type": "code",
   "execution_count": 23,
   "metadata": {},
   "outputs": [],
   "source": [
    "#non-numeric value convert to NaN\n",
    "df['User_Score'] = df['User_Score'].apply(pd.to_numeric, errors='coerce')\n",
    "df['Rating'] = df['Rating'].apply(pd.to_numeric, errors='coerce')"
   ]
  },
  {
   "cell_type": "code",
   "execution_count": 24,
   "metadata": {},
   "outputs": [
    {
     "output_type": "execute_result",
     "data": {
      "text/plain": "Name                object\nPlatform            object\nYear_of_Release    float64\nGenre               object\nPublisher           object\nNA_Sales           float64\nEU_Sales           float64\nJP_Sales           float64\nOther_Sales        float64\nGlobal_Sales       float64\nCritic_Score       float64\nCritic_Count       float64\nUser_Score         float64\nUser_Count         float64\nDeveloper           object\nRating             float64\ndtype: object"
     },
     "metadata": {},
     "execution_count": 24
    }
   ],
   "source": [
    "df.dtypes"
   ]
  },
  {
   "cell_type": "code",
   "execution_count": 25,
   "metadata": {},
   "outputs": [],
   "source": [
    "df[['Publisher', 'Developer']]=df[['Publisher', 'Developer']].fillna(value='missing')"
   ]
  },
  {
   "cell_type": "code",
   "execution_count": 26,
   "metadata": {},
   "outputs": [],
   "source": [
    "# df['Rating'] = df['Rating'].astype('Int64')\n",
    ""
   ]
  },
  {
   "cell_type": "code",
   "execution_count": null,
   "metadata": {},
   "outputs": [],
   "source": []
  },
  {
   "cell_type": "code",
   "execution_count": 27,
   "metadata": {},
   "outputs": [],
   "source": [
    "df[['Critic_Count', 'Critic_Score', 'User_Count']] = df[['Critic_Count', 'Critic_Score', 'User_Count']].astype('Int64')"
   ]
  },
  {
   "cell_type": "code",
   "execution_count": 28,
   "metadata": {},
   "outputs": [
    {
     "output_type": "execute_result",
     "data": {
      "text/plain": "Name                object\nPlatform            object\nYear_of_Release    float64\nGenre               object\nPublisher           object\nNA_Sales           float64\nEU_Sales           float64\nJP_Sales           float64\nOther_Sales        float64\nGlobal_Sales       float64\nCritic_Score         Int64\nCritic_Count         Int64\nUser_Score         float64\nUser_Count           Int64\nDeveloper           object\nRating             float64\ndtype: object"
     },
     "metadata": {},
     "execution_count": 28
    }
   ],
   "source": [
    "df.dtypes"
   ]
  },
  {
   "cell_type": "code",
   "execution_count": 29,
   "metadata": {},
   "outputs": [
    {
     "output_type": "execute_result",
     "data": {
      "text/plain": "2008.0    1427\n2009.0    1426\n2010.0    1255\n2007.0    1197\n2011.0    1136\n2006.0    1006\n2005.0     939\n2002.0     829\n2003.0     775\n2004.0     762\n2012.0     653\n2015.0     606\n2014.0     581\n2013.0     544\n2016.0     502\n2001.0     482\n1998.0     379\n2000.0     350\n1999.0     338\n1997.0     289\n1996.0     263\n1995.0     219\n1994.0     121\n1993.0      60\n1981.0      46\n1992.0      43\n1991.0      41\n1982.0      36\n1986.0      21\n1989.0      17\n1983.0      17\n1990.0      16\n1987.0      16\n1988.0      15\n1985.0      14\n1984.0      14\n1980.0       9\n2017.0       3\n2020.0       1\nName: Year_of_Release, dtype: int64"
     },
     "metadata": {},
     "execution_count": 29
    }
   ],
   "source": [
    "df.Year_of_Release.value_counts()\n",
    "# df.shape"
   ]
  },
  {
   "cell_type": "code",
   "execution_count": 30,
   "metadata": {},
   "outputs": [
    {
     "output_type": "execute_result",
     "data": {
      "text/plain": "Name               Wii Sports\nPlatform                  Wii\nYear_of_Release          2006\nGenre                  Sports\nPublisher            Nintendo\nNA_Sales                41.36\nEU_Sales                28.96\nJP_Sales                 3.77\nOther_Sales               NaN\nGlobal_Sales            82.53\nCritic_Score               76\nCritic_Count               51\nUser_Score                  8\nUser_Count                322\nDeveloper            Nintendo\nRating                    NaN\nName: 0, dtype: object"
     },
     "metadata": {},
     "execution_count": 30
    }
   ],
   "source": [
    "df.loc[0]"
   ]
  },
  {
   "cell_type": "code",
   "execution_count": 31,
   "metadata": {},
   "outputs": [
    {
     "output_type": "execute_result",
     "data": {
      "text/plain": "       Year_of_Release      NA_Sales      EU_Sales      JP_Sales  \\\ncount     16448.000000  15847.000000  15519.000000  16717.000000   \nmean       2006.488996      0.263483      0.146219      0.077610   \nstd           5.877470      0.822059      0.513339      0.308836   \nmin        1980.000000      0.000000      0.000000      0.000000   \n25%        2003.000000      0.000000      0.000000      0.000000   \n50%        2007.000000      0.080000      0.020000      0.000000   \n75%        2010.000000      0.240000      0.110000      0.040000   \nmax        2020.000000     41.360000     28.960000     10.220000   \n\n        Other_Sales  Global_Sales  Critic_Score  Critic_Count   User_Score  \\\ncount  15339.000000  15727.000000   8137.000000   8137.000000  7590.000000   \nmean       0.046821      0.531530     68.967679     26.360821     7.125046   \nstd        0.175132      1.539641     13.938165     18.980495     1.500006   \nmin        0.000000      0.010000     13.000000      3.000000     0.000000   \n25%        0.000000      0.060000     60.000000     12.000000     6.400000   \n50%        0.010000      0.170000     71.000000     21.000000     7.500000   \n75%        0.030000      0.470000     79.000000     36.000000     8.200000   \nmax       10.570000     82.530000     98.000000    113.000000     9.700000   \n\n         User_Count  Rating  \ncount   7590.000000     0.0  \nmean     162.229908     NaN  \nstd      561.282326     NaN  \nmin        4.000000     NaN  \n25%       10.000000     NaN  \n50%       24.000000     NaN  \n75%       81.000000     NaN  \nmax    10665.000000     NaN  ",
      "text/html": "<div>\n<style scoped>\n    .dataframe tbody tr th:only-of-type {\n        vertical-align: middle;\n    }\n\n    .dataframe tbody tr th {\n        vertical-align: top;\n    }\n\n    .dataframe thead th {\n        text-align: right;\n    }\n</style>\n<table border=\"1\" class=\"dataframe\">\n  <thead>\n    <tr style=\"text-align: right;\">\n      <th></th>\n      <th>Year_of_Release</th>\n      <th>NA_Sales</th>\n      <th>EU_Sales</th>\n      <th>JP_Sales</th>\n      <th>Other_Sales</th>\n      <th>Global_Sales</th>\n      <th>Critic_Score</th>\n      <th>Critic_Count</th>\n      <th>User_Score</th>\n      <th>User_Count</th>\n      <th>Rating</th>\n    </tr>\n  </thead>\n  <tbody>\n    <tr>\n      <th>count</th>\n      <td>16448.000000</td>\n      <td>15847.000000</td>\n      <td>15519.000000</td>\n      <td>16717.000000</td>\n      <td>15339.000000</td>\n      <td>15727.000000</td>\n      <td>8137.000000</td>\n      <td>8137.000000</td>\n      <td>7590.000000</td>\n      <td>7590.000000</td>\n      <td>0.0</td>\n    </tr>\n    <tr>\n      <th>mean</th>\n      <td>2006.488996</td>\n      <td>0.263483</td>\n      <td>0.146219</td>\n      <td>0.077610</td>\n      <td>0.046821</td>\n      <td>0.531530</td>\n      <td>68.967679</td>\n      <td>26.360821</td>\n      <td>7.125046</td>\n      <td>162.229908</td>\n      <td>NaN</td>\n    </tr>\n    <tr>\n      <th>std</th>\n      <td>5.877470</td>\n      <td>0.822059</td>\n      <td>0.513339</td>\n      <td>0.308836</td>\n      <td>0.175132</td>\n      <td>1.539641</td>\n      <td>13.938165</td>\n      <td>18.980495</td>\n      <td>1.500006</td>\n      <td>561.282326</td>\n      <td>NaN</td>\n    </tr>\n    <tr>\n      <th>min</th>\n      <td>1980.000000</td>\n      <td>0.000000</td>\n      <td>0.000000</td>\n      <td>0.000000</td>\n      <td>0.000000</td>\n      <td>0.010000</td>\n      <td>13.000000</td>\n      <td>3.000000</td>\n      <td>0.000000</td>\n      <td>4.000000</td>\n      <td>NaN</td>\n    </tr>\n    <tr>\n      <th>25%</th>\n      <td>2003.000000</td>\n      <td>0.000000</td>\n      <td>0.000000</td>\n      <td>0.000000</td>\n      <td>0.000000</td>\n      <td>0.060000</td>\n      <td>60.000000</td>\n      <td>12.000000</td>\n      <td>6.400000</td>\n      <td>10.000000</td>\n      <td>NaN</td>\n    </tr>\n    <tr>\n      <th>50%</th>\n      <td>2007.000000</td>\n      <td>0.080000</td>\n      <td>0.020000</td>\n      <td>0.000000</td>\n      <td>0.010000</td>\n      <td>0.170000</td>\n      <td>71.000000</td>\n      <td>21.000000</td>\n      <td>7.500000</td>\n      <td>24.000000</td>\n      <td>NaN</td>\n    </tr>\n    <tr>\n      <th>75%</th>\n      <td>2010.000000</td>\n      <td>0.240000</td>\n      <td>0.110000</td>\n      <td>0.040000</td>\n      <td>0.030000</td>\n      <td>0.470000</td>\n      <td>79.000000</td>\n      <td>36.000000</td>\n      <td>8.200000</td>\n      <td>81.000000</td>\n      <td>NaN</td>\n    </tr>\n    <tr>\n      <th>max</th>\n      <td>2020.000000</td>\n      <td>41.360000</td>\n      <td>28.960000</td>\n      <td>10.220000</td>\n      <td>10.570000</td>\n      <td>82.530000</td>\n      <td>98.000000</td>\n      <td>113.000000</td>\n      <td>9.700000</td>\n      <td>10665.000000</td>\n      <td>NaN</td>\n    </tr>\n  </tbody>\n</table>\n</div>"
     },
     "metadata": {},
     "execution_count": 31
    }
   ],
   "source": [
    "df.describe()"
   ]
  },
  {
   "cell_type": "code",
   "execution_count": null,
   "metadata": {},
   "outputs": [],
   "source": []
  }
 ]
}